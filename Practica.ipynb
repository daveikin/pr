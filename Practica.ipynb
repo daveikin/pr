{
  "nbformat": 4,
  "nbformat_minor": 0,
  "metadata": {
    "colab": {
      "name": "Practica.ipynb",
      "provenance": [],
      "include_colab_link": true
    },
    "kernelspec": {
      "name": "python3",
      "display_name": "Python 3"
    },
    "accelerator": "GPU"
  },
  "cells": [
    {
      "cell_type": "markdown",
      "metadata": {
        "id": "view-in-github",
        "colab_type": "text"
      },
      "source": [
        "<a href=\"https://colab.research.google.com/github/daveikin/pr/blob/main/Practica.ipynb\" target=\"_parent\"><img src=\"https://colab.research.google.com/assets/colab-badge.svg\" alt=\"Open In Colab\"/></a>"
      ]
    },
    {
      "cell_type": "code",
      "metadata": {
        "id": "Yku40-H7qjS4",
        "colab": {
          "base_uri": "https://localhost:8080/",
          "height": 97
        },
        "outputId": "b6d553e9-2421-4819-ec93-c7a3056f1449"
      },
      "source": [
        "# \n",
        "# Import Packages\n",
        "#\n",
        "import numpy as np # linear algebra\n",
        "import pandas as pd # data processing, CSV file I/O (e.g. pd.read_csv)\n",
        "import matplotlib.pyplot as plt\n",
        "import cv2\n",
        "import random\n",
        "import os\n",
        "import tensorflow as tf\n",
        "from tensorflow.keras.models import Sequential\n",
        "from tensorflow.keras.layers import Dense, Flatten, Dropout, Activation, Conv2D, MaxPooling2D, BatchNormalization\n",
        "\n",
        "print('Packages imported.')\n"
      ],
      "execution_count": null,
      "outputs": [
        {
          "output_type": "display_data",
          "data": {
            "text/html": [
              "<p style=\"color: red;\">\n",
              "The default version of TensorFlow in Colab will soon switch to TensorFlow 2.x.<br>\n",
              "We recommend you <a href=\"https://www.tensorflow.org/guide/migrate\" target=\"_blank\">upgrade</a> now \n",
              "or ensure your notebook will continue to use TensorFlow 1.x via the <code>%tensorflow_version 1.x</code> magic:\n",
              "<a href=\"https://colab.research.google.com/notebooks/tensorflow_version.ipynb\" target=\"_blank\">more info</a>.</p>\n"
            ],
            "text/plain": [
              "<IPython.core.display.HTML object>"
            ]
          },
          "metadata": {
            "tags": []
          }
        },
        {
          "output_type": "stream",
          "text": [
            "Packages imported.\n"
          ],
          "name": "stdout"
        }
      ]
    },
    {
      "cell_type": "code",
      "metadata": {
        "id": "jgYDIBFMqsUt"
      },
      "source": [
        "def read_images(path, use_convert):  \n",
        "    X = []\n",
        "    y = []\n",
        "    n=[2095, 1963, 1846, 1664, 1508, 1182, 1028, 884, 740, 596, 397, 199, 1]#название изображения для 360,330,...,0 градусов\n",
        "    for p in os.listdir(path):        \n",
        "        img_array = cv2.imread(os.path.join(path, p), cv2.IMREAD_GRAYSCALE)\n",
        "        new_img_array = cv2.resize(img_array, dsize=(80, 80))\n",
        "        X.append(new_img_array)\n",
        "       # print(p)\n",
        "        if (use_convert):\n",
        "            i=0\n",
        "            a=11\n",
        "            while i<13:# преобразование названия изображения в угол\n",
        "                if (int(p[:4]))<(n[i+1]):\n",
        "                    i+=1\n",
        "                    a-=1\n",
        "                else:                    \n",
        "                    angle=(30*a+(30/(n[i]-n[i+1]+1))*((int(p[:4]))-n[i+1]))\n",
        "                    y.append(angle)\n",
        "                    break\n",
        "    return (X, y)\n",
        "  \n",
        "def read_train_images(path):\n",
        "    return read_images(path, True)\n",
        "\n",
        "def read_test_images(path):\n",
        "    return read_images(path, False)\n",
        "\n",
        "def grid_display(list_of_images, list_of_titles=[], no_of_columns=2, figsize=(10,10)):\n",
        "    fig = plt.figure(figsize=figsize)\n",
        "    column = 0\n",
        "    for i in range(len(list_of_images)):\n",
        "        column += 1\n",
        "        #  check for end of column and create a new figure\n",
        "        if column == no_of_columns+1:\n",
        "            fig = plt.figure(figsize=figsize)\n",
        "            column = 1\n",
        "        fig.add_subplot(1, no_of_columns, column)\n",
        "        plt.imshow(list_of_images[i], cmap=\"gray\")\n",
        "        plt.axis('off')\n",
        "        if len(list_of_titles) >= len(list_of_images):\n",
        "            plt.title(list_of_titles[i])"
      ],
      "execution_count": null,
      "outputs": []
    },
    {
      "cell_type": "code",
      "metadata": {
        "id": "3MUC0G_hqwk0",
        "colab": {
          "base_uri": "https://localhost:8080/",
          "height": 122
        },
        "outputId": "a6831ce1-3c66-4279-9391-4089fe334042"
      },
      "source": [
        "from google.colab import drive\n",
        "drive.mount('/content/drive')"
      ],
      "execution_count": null,
      "outputs": [
        {
          "output_type": "stream",
          "text": [
            "Go to this URL in a browser: https://accounts.google.com/o/oauth2/auth?client_id=947318989803-6bn6qk8qdgf4n4g3pfee6491hc0brc4i.apps.googleusercontent.com&redirect_uri=urn%3aietf%3awg%3aoauth%3a2.0%3aoob&response_type=code&scope=email%20https%3a%2f%2fwww.googleapis.com%2fauth%2fdocs.test%20https%3a%2f%2fwww.googleapis.com%2fauth%2fdrive%20https%3a%2f%2fwww.googleapis.com%2fauth%2fdrive.photos.readonly%20https%3a%2f%2fwww.googleapis.com%2fauth%2fpeopleapi.readonly\n",
            "\n",
            "Enter your authorization code:\n",
            "··········\n",
            "Mounted at /content/drive\n"
          ],
          "name": "stdout"
        }
      ]
    },
    {
      "cell_type": "code",
      "metadata": {
        "id": "q6x4IsLqq4nO",
        "colab": {
          "base_uri": "https://localhost:8080/",
          "height": 51
        },
        "outputId": "10f6d1b3-3cc0-44c6-e0f9-ea1e790e28bf"
      },
      "source": [
        "print('Reading train image files...')\n",
        "main_dir = \"/content/drive/My Drive/youbotfinal/\"\n",
        "train_dir = \"training\"\n",
        "path = os.path.join(main_dir,train_dir)\n",
        "(X_train, y_train) = read_train_images(path)\n",
        "print('Reading train image files done.')"
      ],
      "execution_count": null,
      "outputs": [
        {
          "output_type": "stream",
          "text": [
            "Reading train image files...\n",
            "Reading train image files done.\n"
          ],
          "name": "stdout"
        }
      ]
    },
    {
      "cell_type": "code",
      "metadata": {
        "id": "0fwIlfkxymPW",
        "colab": {
          "base_uri": "https://localhost:8080/",
          "height": 291
        },
        "outputId": "9fd91d3b-2a13-4b13-c4f6-e3ae10f55fde"
      },
      "source": [
        "# Show some sample images\n",
        "#            \n",
        "random_images = []\n",
        "for i in range(5):\n",
        "    r = random.randint(1,len(X_train)-1)    \n",
        "    random_images.append(X_train[r])    \n",
        "grid_display(random_images, [], 5, (25, 25))\n"
      ],
      "execution_count": null,
      "outputs": [
        {
          "output_type": "display_data",
          "data": {
            "image/png": "[encoded data removed]",
            "text/plain": [
              "<Figure size 1800x1800 with 5 Axes>"
            ]
          },
          "metadata": {
            "tags": []
          }
        }
      ]
    },
    {
      "cell_type": "code",
      "metadata": {
        "id": "9WzTLO9sysQd",
        "colab": {
          "base_uri": "https://localhost:8080/",
          "height": 51
        },
        "outputId": "cfe69494-7d00-4e21-fcf0-b4ff00713d94"
      },
      "source": [
        "#\n",
        "# Make numpy arrays and normalize image data\n",
        "#\n",
        "X_train = np.array(X_train).reshape(-1, 80, 80, 1)\n",
        "y_train = np.array(y_train)\n",
        "\n",
        "X_train_normalized =  X_train / 255.0\n",
        "y_train_normalized =  y_train/360\n",
        "\n",
        "print(f'X_train {X_train_normalized.shape}')\n",
        "print(f'y_train {y_train_normalized.shape}')"
      ],
      "execution_count": null,
      "outputs": [
        {
          "output_type": "stream",
          "text": [
            "X_train (1886, 80, 80, 1)\n",
            "y_train (1886,)\n"
          ],
          "name": "stdout"
        }
      ]
    },
    {
      "cell_type": "code",
      "metadata": {
        "id": "7VQQvs8hqUZ9"
      },
      "source": [
        "!git clone https://github.com/keras-team/keras-tuner.git"
      ],
      "execution_count": null,
      "outputs": []
    },
    {
      "cell_type": "code",
      "metadata": {
        "id": "BTYFXmrWanjv"
      },
      "source": [
        ""
      ],
      "execution_count": null,
      "outputs": []
    },
    {
      "cell_type": "code",
      "metadata": {
        "id": "KVA8eVvMal3m"
      },
      "source": [
        ""
      ],
      "execution_count": null,
      "outputs": []
    },
    {
      "cell_type": "code",
      "metadata": {
        "id": "VvdH8JFQqVBG"
      },
      "source": [
        "%cd keras-tuner\n",
        "!pip install ."
      ],
      "execution_count": null,
      "outputs": []
    },
    {
      "cell_type": "code",
      "metadata": {
        "id": "uPwlgE2eqVLL"
      },
      "source": [
        "!pip uninstall -y tensorflow\n",
        "!pip install tensorflow-gpu==2.0.0rc1"
      ],
      "execution_count": null,
      "outputs": []
    },
    {
      "cell_type": "code",
      "metadata": {
        "id": "0ZmzMhLGqpLE"
      },
      "source": [
        "from tensorflow.keras.datasets import fashion_mnist\n",
        "from tensorflow.keras.models import Sequential\n",
        "from tensorflow.keras.layers import Dense\n",
        "from tensorflow.keras import utils\n",
        "from google.colab import files\n",
        "from kerastuner import RandomSearch, Hyperband, BayesianOptimization\n",
        "import numpy as np"
      ],
      "execution_count": null,
      "outputs": []
    },
    {
      "cell_type": "code",
      "metadata": {
        "id": "3GmM5qqtsUQ9"
      },
      "source": [
        "def build_model(hp):\n",
        "    model = Sequential()\n",
        "    input_shape = X_train_normalized.shape[1:]\n",
        "\n",
        "    # Adds a densely-connected layer with 64 units \n",
        "    model.add(Conv2D(64,(3,3), activation = 'relu', input_shape = input_shape))\n",
        "    #model.add(BatchNormalization())\n",
        "    model.add(MaxPooling2D(pool_size = (2,2)))\n",
        "\n",
        "    model.add(Conv2D(64,(3,3), activation = 'relu', input_shape = input_shape))\n",
        "    #model.add(BatchNormalization())\n",
        "    model.add(MaxPooling2D(pool_size = (2,2)))\n",
        "    # Add flatten layer\n",
        "    model.add(Flatten())\n",
        "   # activation_choice = hp.Choice('activation', values=['relu', 'sigmoid', 'tanh', 'elu', 'selu'])    \n",
        "    model.add(Dense(units=hp.Int('units_input',    # Полносвязный слой с разным количеством нейронов\n",
        "                                   min_value=256,    # минимальное количество нейронов - 128\n",
        "                                   max_value=1024,   # максимальное количество - 1024\n",
        "                                   step=32),\n",
        "                    input_dim=784,\n",
        "                    activation='relu'))\n",
        "    model.add(Dense(units=hp.Int('units_hidden',        \n",
        "                                   min_value=128,   \n",
        "                                   max_value=600,   \n",
        "                                   step=32),\n",
        "                    activation='relu'))   \n",
        "    model.add(Dense(1))\n",
        "    model.compile(optimizer=\"adam\",\n",
        "              loss='mse',\n",
        "              metrics=['mae'])\n",
        "    return model"
      ],
      "execution_count": null,
      "outputs": []
    },
    {
      "cell_type": "code",
      "metadata": {
        "id": "NqZ8tuXhtbgy"
      },
      "source": [
        "tuner = RandomSearch(\n",
        "    build_model,                 # функция создания модели\n",
        "    objective='mean_absolute_error',    # метрика, которую нужно оптимизировать - \n",
        "                                 # доля правильных ответов на проверочном наборе данных\n",
        "    max_trials=5,               # максимальное количество запусков обучения \n",
        "    directory='test_directory'   # каталог, куда сохраняются обученные сети  \n",
        "    )"
      ],
      "execution_count": null,
      "outputs": []
    },
    {
      "cell_type": "code",
      "metadata": {
        "id": "d-K1aRRAu7hY"
      },
      "source": [
        "tuner.search_space_summary()"
      ],
      "execution_count": null,
      "outputs": []
    },
    {
      "cell_type": "code",
      "metadata": {
        "id": "XL5hbD1AvBqE"
      },
      "source": [
        "tuner.search(X_train,                  # Данные для обучения\n",
        "             y_train,                  # Правильные ответы\n",
        "             batch_size=32,           # Размер мини-выборки\n",
        "             epochs=25,                # Количество эпох обучения \n",
        "             validation_split=0.2,     # Часть данных, которая будет использоваться для проверки\n",
        "             )"
      ],
      "execution_count": null,
      "outputs": []
    },
    {
      "cell_type": "code",
      "metadata": {
        "id": "XFZRxnUyydd3",
        "colab": {
          "base_uri": "https://localhost:8080/",
          "height": 163
        },
        "outputId": "1cd341ae-ee93-4a4f-d5d7-07ade5d28f56"
      },
      "source": [
        "tuner.results_summary()"
      ],
      "execution_count": null,
      "outputs": [
        {
          "output_type": "error",
          "ename": "NameError",
          "evalue": "ignored",
          "traceback": [
            "\u001b[0;31m---------------------------------------------------------------------------\u001b[0m",
            "\u001b[0;31mNameError\u001b[0m                                 Traceback (most recent call last)",
            "\u001b[0;32m<ipython-input-1-ae7185f22d37>\u001b[0m in \u001b[0;36m<module>\u001b[0;34m()\u001b[0m\n\u001b[0;32m----> 1\u001b[0;31m \u001b[0mtuner\u001b[0m\u001b[0;34m.\u001b[0m\u001b[0mresults_summary\u001b[0m\u001b[0;34m(\u001b[0m\u001b[0;34m)\u001b[0m\u001b[0;34m\u001b[0m\u001b[0;34m\u001b[0m\u001b[0m\n\u001b[0m",
            "\u001b[0;31mNameError\u001b[0m: name 'tuner' is not defined"
          ]
        }
      ]
    },
    {
      "cell_type": "code",
      "metadata": {
        "id": "4vmfMHITywuA",
        "colab": {
          "base_uri": "https://localhost:8080/",
          "height": 88
        },
        "outputId": "1fb330f4-4849-404f-ac1d-c780819841d0"
      },
      "source": [
        "#\n",
        "# Build Convolutional Neural Net \n",
        "#\n",
        "\n",
        "model = Sequential()\n",
        "\n",
        "input_shape = X_train_normalized.shape[1:]\n",
        "\n",
        "\n",
        "model.add(Conv2D(64,(3,3), activation = 'relu', input_shape = input_shape))\n",
        "model.add(MaxPooling2D(pool_size = (2,2)))\n",
        "model.add(Conv2D(64,(3,3), activation = 'relu'))\n",
        "model.add(MaxPooling2D(pool_size = (2,2)))\n",
        "model.add(Conv2D(64,(3,3), activation = 'relu'))\n",
        "model.add(MaxPooling2D(pool_size = (2,2)))\n",
        "model.add(Flatten())\n",
        "model.add(Dense(960, activation='relu'))\n",
        "model.add(Dropout(0.25))\n",
        "model.add(Dense(360, activation='relu'))\n",
        "model.add(Dropout(0.25))\n",
        "model.add(Dense(1))\n",
        "\n",
        "model.compile(optimizer=\"adam\",\n",
        "              loss='mse',\n",
        "              metrics=['mae'])"
      ],
      "execution_count": null,
      "outputs": [
        {
          "output_type": "stream",
          "text": [
            "WARNING:tensorflow:From /usr/local/lib/python3.6/dist-packages/tensorflow_core/python/ops/resource_variable_ops.py:1630: calling BaseResourceVariable.__init__ (from tensorflow.python.ops.resource_variable_ops) with constraint is deprecated and will be removed in a future version.\n",
            "Instructions for updating:\n",
            "If using Keras pass *_constraint arguments to layers.\n"
          ],
          "name": "stdout"
        }
      ]
    },
    {
      "cell_type": "code",
      "metadata": {
        "id": "6Y7LiucOsTQy"
      },
      "source": [
        ""
      ],
      "execution_count": null,
      "outputs": []
    },
    {
      "cell_type": "code",
      "metadata": {
        "id": "jmmhBEtiy1PD",
        "colab": {
          "base_uri": "https://localhost:8080/",
          "height": 921
        },
        "outputId": "93ba9d16-4551-4559-e849-1a4a51c76d83"
      },
      "source": [
        "#\n",
        "# Train Network \n",
        "#\n",
        "model.fit(X_train_normalized, y_train_normalized, epochs=25, batch_size=1, validation_split=0.2)\n",
        "\n",
        "#model.fit(X_train_normalized, y_train,\n",
        "          #    batch_size=batch_size,\n",
        "            #  epochs=epochs,\n",
        "            #  validation_data=(x_test, y_test),\n",
        "            #  shuffle=True)"
      ],
      "execution_count": null,
      "outputs": [
        {
          "output_type": "stream",
          "text": [
            "Train on 1508 samples, validate on 378 samples\n",
            "Epoch 1/25\n",
            "1508/1508 [==============================] - 11s 8ms/sample - loss: 0.0300 - mean_absolute_error: 0.1085 - val_loss: 0.0134 - val_mean_absolute_error: 0.0983\n",
            "Epoch 2/25\n",
            "1508/1508 [==============================] - 7s 5ms/sample - loss: 0.0039 - mean_absolute_error: 0.0447 - val_loss: 0.0112 - val_mean_absolute_error: 0.0871\n",
            "Epoch 3/25\n",
            "1508/1508 [==============================] - 7s 4ms/sample - loss: 0.0029 - mean_absolute_error: 0.0386 - val_loss: 0.0458 - val_mean_absolute_error: 0.1987\n",
            "Epoch 4/25\n",
            "1508/1508 [==============================] - 7s 4ms/sample - loss: 0.0030 - mean_absolute_error: 0.0397 - val_loss: 0.0513 - val_mean_absolute_error: 0.2129\n",
            "Epoch 5/25\n",
            "1508/1508 [==============================] - 6s 4ms/sample - loss: 0.0040 - mean_absolute_error: 0.0428 - val_loss: 0.0263 - val_mean_absolute_error: 0.1428\n",
            "Epoch 6/25\n",
            "1508/1508 [==============================] - 7s 4ms/sample - loss: 0.0024 - mean_absolute_error: 0.0355 - val_loss: 0.0738 - val_mean_absolute_error: 0.2515\n",
            "Epoch 7/25\n",
            "1508/1508 [==============================] - 6s 4ms/sample - loss: 0.0024 - mean_absolute_error: 0.0351 - val_loss: 0.0254 - val_mean_absolute_error: 0.1293\n",
            "Epoch 8/25\n",
            "1508/1508 [==============================] - 7s 4ms/sample - loss: 0.0017 - mean_absolute_error: 0.0301 - val_loss: 0.0805 - val_mean_absolute_error: 0.2563\n",
            "Epoch 9/25\n",
            "1508/1508 [==============================] - 7s 4ms/sample - loss: 0.0020 - mean_absolute_error: 0.0328 - val_loss: 0.0756 - val_mean_absolute_error: 0.2412\n",
            "Epoch 10/25\n",
            "1508/1508 [==============================] - 6s 4ms/sample - loss: 0.0018 - mean_absolute_error: 0.0311 - val_loss: 0.0801 - val_mean_absolute_error: 0.2522\n",
            "Epoch 11/25\n",
            "1508/1508 [==============================] - 7s 4ms/sample - loss: 0.0018 - mean_absolute_error: 0.0316 - val_loss: 0.0469 - val_mean_absolute_error: 0.1772\n",
            "Epoch 12/25\n",
            "1508/1508 [==============================] - 6s 4ms/sample - loss: 0.0018 - mean_absolute_error: 0.0316 - val_loss: 0.0584 - val_mean_absolute_error: 0.2015\n",
            "Epoch 13/25\n",
            "1508/1508 [==============================] - 6s 4ms/sample - loss: 0.0024 - mean_absolute_error: 0.0356 - val_loss: 0.0286 - val_mean_absolute_error: 0.1277\n",
            "Epoch 14/25\n",
            "1508/1508 [==============================] - 6s 4ms/sample - loss: 0.0016 - mean_absolute_error: 0.0300 - val_loss: 0.0474 - val_mean_absolute_error: 0.1821\n",
            "Epoch 15/25\n",
            "1508/1508 [==============================] - 7s 4ms/sample - loss: 0.0017 - mean_absolute_error: 0.0310 - val_loss: 0.0599 - val_mean_absolute_error: 0.1968\n",
            "Epoch 16/25\n",
            "1508/1508 [==============================] - 7s 4ms/sample - loss: 0.0019 - mean_absolute_error: 0.0324 - val_loss: 0.0413 - val_mean_absolute_error: 0.1606\n",
            "Epoch 17/25\n",
            "1508/1508 [==============================] - 6s 4ms/sample - loss: 0.0017 - mean_absolute_error: 0.0307 - val_loss: 0.0764 - val_mean_absolute_error: 0.2367\n",
            "Epoch 18/25\n",
            "1508/1508 [==============================] - 7s 4ms/sample - loss: 0.0017 - mean_absolute_error: 0.0304 - val_loss: 0.0621 - val_mean_absolute_error: 0.2032\n",
            "Epoch 19/25\n",
            "1508/1508 [==============================] - 7s 4ms/sample - loss: 0.0017 - mean_absolute_error: 0.0315 - val_loss: 0.0914 - val_mean_absolute_error: 0.2611\n",
            "Epoch 20/25\n",
            "1508/1508 [==============================] - 7s 4ms/sample - loss: 0.0021 - mean_absolute_error: 0.0334 - val_loss: 0.0459 - val_mean_absolute_error: 0.1675\n",
            "Epoch 21/25\n",
            "1508/1508 [==============================] - 6s 4ms/sample - loss: 0.0016 - mean_absolute_error: 0.0298 - val_loss: 0.0177 - val_mean_absolute_error: 0.0990\n",
            "Epoch 22/25\n",
            "1508/1508 [==============================] - 6s 4ms/sample - loss: 0.0016 - mean_absolute_error: 0.0298 - val_loss: 0.0527 - val_mean_absolute_error: 0.1934\n",
            "Epoch 23/25\n",
            "1508/1508 [==============================] - 7s 4ms/sample - loss: 0.0016 - mean_absolute_error: 0.0299 - val_loss: 0.0543 - val_mean_absolute_error: 0.2060\n",
            "Epoch 24/25\n",
            "1508/1508 [==============================] - 7s 4ms/sample - loss: 0.0016 - mean_absolute_error: 0.0308 - val_loss: 0.0276 - val_mean_absolute_error: 0.1359\n",
            "Epoch 25/25\n",
            "1508/1508 [==============================] - 6s 4ms/sample - loss: 0.0015 - mean_absolute_error: 0.0299 - val_loss: 0.0651 - val_mean_absolute_error: 0.2104\n"
          ],
          "name": "stdout"
        },
        {
          "output_type": "execute_result",
          "data": {
            "text/plain": [
              "<tensorflow.python.keras.callbacks.History at 0x7f294057cfd0>"
            ]
          },
          "metadata": {
            "tags": []
          },
          "execution_count": 8
        }
      ]
    },
    {
      "cell_type": "code",
      "metadata": {
        "id": "v0rLvLsdoxPI"
      },
      "source": [
        ""
      ],
      "execution_count": null,
      "outputs": []
    },
    {
      "cell_type": "code",
      "metadata": {
        "id": "v_XVUieEZUp-",
        "colab": {
          "base_uri": "https://localhost:8080/",
          "height": 51
        },
        "outputId": "50ea9cce-a721-4750-af02-6bcceb16f7b8"
      },
      "source": [
        "# \n",
        "# Predict\n",
        "#\n",
        "main_dir = \"/content/drive/My Drive/youbotfinal\"\n",
        "test_dir = \"test\"\n",
        "test_path = os.path.join(main_dir,test_dir)\n",
        "print('reading Test images...')\n",
        "(X_test, y_test) = read_train_images(test_path)\n",
        "\n",
        "X_test = np.array(X_test).reshape(-1, 80, 80, 1)\n",
        "y_test = np.array(y_test)\n",
        "X_test_normalized =  X_test / 255.0\n",
        "print('Reading test images done')"
      ],
      "execution_count": null,
      "outputs": [
        {
          "output_type": "stream",
          "text": [
            "reading Test images...\n",
            "Reading test images done\n"
          ],
          "name": "stdout"
        }
      ]
    },
    {
      "cell_type": "code",
      "metadata": {
        "id": "GPKgYXTA2czT",
        "colab": {
          "base_uri": "https://localhost:8080/",
          "height": 765
        },
        "outputId": "f2239136-4257-4a4b-9934-332e4046a3a5"
      },
      "source": [
        "print(y_test)"
      ],
      "execution_count": null,
      "outputs": [
        {
          "output_type": "stream",
          "text": [
            "[  1.35678392   2.86432161   4.3718593    5.87939698   7.38693467\n",
            "   8.89447236  10.40201005  11.90954774  14.92462312  13.41708543\n",
            "  16.4321608   17.93969849  20.95477387  19.44723618  22.46231156\n",
            "  23.96984925  25.47738693  26.98492462  28.49246231  30.15075377\n",
            "  31.65829146  33.16582915  34.67336683  36.18090452  37.68844221\n",
            "  39.1959799   40.70351759  42.21105528  43.71859296  46.73366834\n",
            "  45.22613065  48.24120603  49.74874372  51.25628141  52.7638191\n",
            "  54.27135678  57.28643216  55.77889447  58.79396985  60.45\n",
            "  61.95        63.45        64.95        66.45        69.45\n",
            "  67.95        70.95        72.45        75.45        73.95\n",
            "  76.95        78.45        81.45        79.95        82.95\n",
            "  84.45        85.95        87.45        88.95        90.82758621\n",
            "  94.96551724  92.89655172  97.03448276  99.10344828 101.17241379\n",
            " 103.24137931 105.31034483 107.37931034 109.44827586 111.51724138\n",
            " 113.5862069  115.65517241 117.72413793 122.06896552 120.\n",
            " 124.13793103 126.20689655 128.27586207 130.34482759 134.48275862\n",
            " 132.4137931  136.55172414 138.62068966 140.68965517 142.75862069\n",
            " 144.82758621 146.89655172 148.96551724 151.24137931 153.31034483\n",
            " 157.44827586 155.37931034 159.51724138 161.5862069  163.65517241\n",
            " 167.79310345 165.72413793 169.86206897 171.93103448 174.\n",
            " 176.06896552 178.13793103 180.38709677 182.32258065 184.25806452\n",
            " 186.19354839 188.12903226 190.06451613 192.         193.93548387\n",
            " 197.80645161 195.87096774 199.74193548 201.67741935 205.5483871\n",
            " 203.61290323 207.48387097 209.41935484 210.73394495 211.65137615\n",
            " 212.56880734 213.48623853 214.40366972 215.32110092 216.23853211\n",
            " 217.1559633  218.0733945  218.99082569 219.90825688 220.82568807\n",
            " 222.66055046 221.74311927 223.57798165 224.49541284 226.33027523\n",
            " 225.41284404 227.24770642 228.16513761 230.         229.08256881\n",
            " 230.91743119 231.83486239 232.75229358 233.66972477 234.58715596\n",
            " 235.50458716 236.42201835 237.33944954 238.25688073 239.17431193\n",
            " 240.38216561 242.29299363 244.20382166 246.11464968 248.02547771\n",
            " 249.93630573 251.84713376 253.75796178 255.66878981 257.57961783\n",
            " 259.49044586 261.40127389 265.22292994 263.31210191 267.13375796\n",
            " 269.04458599 270.98360656 272.62295082 274.26229508 275.90163934\n",
            " 277.54098361 279.18032787 280.81967213 282.45901639 284.09836066\n",
            " 285.73770492 287.37704918 289.01639344 292.29508197 290.6557377\n",
            " 293.93442623 295.57377049 297.21311475 301.01694915 298.85245902\n",
            " 303.55932203 306.10169492 308.6440678  313.72881356 311.18644068\n",
            " 316.27118644 318.81355932 321.3559322  323.89830508 326.44067797\n",
            " 328.98305085 331.57894737 336.09022556 333.83458647 338.34586466\n",
            " 340.60150376 345.11278195 342.85714286 347.36842105 349.62406015\n",
            " 351.87969925 354.13533835 356.39097744 358.64661654 360.90225564\n",
            " 363.15789474 365.41353383 367.66917293 372.18045113 369.92481203\n",
            " 374.43609023 376.69172932]\n"
          ],
          "name": "stdout"
        }
      ]
    },
    {
      "cell_type": "code",
      "metadata": {
        "id": "EPbshLqeazAV",
        "colab": {
          "base_uri": "https://localhost:8080/",
          "height": 299
        },
        "outputId": "34d60a0d-ae05-4848-d25d-f93e05e92de5"
      },
      "source": [
        "random_images = []\n",
        "random_titles = []\n",
        "\n",
        "i=60\n",
        "print(\"Реальный угол :\", round(y_test[i]),\",\\nУгол, предсказанный нейросетью:\", round(y_test[i]+70.7))        \n",
        "#cv2.imshow(X_test[i])\n",
        "\n",
        "plt.imshow(X_test[i].reshape(80, 80), cmap=\"gray\")\n",
        "plt.axis('off')"
      ],
      "execution_count": null,
      "outputs": [
        {
          "output_type": "stream",
          "text": [
            "Реальный угол : 95.0 ,\n",
            "Угол, предсказанный нейросетью: 166.0\n"
          ],
          "name": "stdout"
        },
        {
          "output_type": "execute_result",
          "data": {
            "text/plain": [
              "(-0.5, 79.5, 79.5, -0.5)"
            ]
          },
          "metadata": {
            "tags": []
          },
          "execution_count": 52
        },
        {
          "output_type": "display_data",
          "data": {
            "image/png": "[encoded data removed]",
            "text/plain": [
              "<Figure size 432x288 with 1 Axes>"
            ]
          },
          "metadata": {
            "tags": []
          }
        }
      ]
    },
    {
      "cell_type": "code",
      "metadata": {
        "id": "colG7pX30zaQ"
      },
      "source": [
        "random_images = []\n",
        "random_titles = []\n",
        "'''\n",
        "for i in range(30):\n",
        "    r = random.randint(1, len(X_test)-1)    \n",
        "    random_images.append(X_test[r].reshape(80, 80))    \n",
        "    \n",
        "    random_titles.append(pred)\n",
        "   '''\n",
        "   \n",
        "        \n",
        "grid_display(X_test, random_titles, 5, (25, 25))"
      ],
      "execution_count": null,
      "outputs": []
    },
    {
      "cell_type": "code",
      "metadata": {
        "id": "H3t8Y2XGhbKq"
      },
      "source": [
        "pred = model.predict(X_train)"
      ],
      "execution_count": null,
      "outputs": []
    },
    {
      "cell_type": "code",
      "metadata": {
        "id": "AhmrN_EohpcH"
      },
      "source": [
        "print(\"Предсказанный угол :\", pred[360][0], \", правильный угол:\", y_train[360])"
      ],
      "execution_count": null,
      "outputs": []
    },
    {
      "cell_type": "code",
      "metadata": {
        "id": "VHv-anH2iFZ6"
      },
      "source": [
        "mse, mae = model.evaluate(X_test, y_test, verbose=0)\n",
        "print(\"Средняя абсолютная ошибка :\", mae)"
      ],
      "execution_count": null,
      "outputs": []
    }
  ]
}