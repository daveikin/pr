{
  "nbformat": 4,
  "nbformat_minor": 0,
  "metadata": {
    "colab": {
      "name": "инфтех.ipynb",
      "provenance": [],
      "authorship_tag": "ABX9TyO/32QgO28cwRso17C20Tjr",
      "include_colab_link": true
    },
    "kernelspec": {
      "name": "python3",
      "display_name": "Python 3"
    }
  },
  "cells": [
    {
      "cell_type": "markdown",
      "metadata": {
        "id": "view-in-github",
        "colab_type": "text"
      },
      "source": [
        "<a href=\"https://colab.research.google.com/github/daveikin/pr/blob/main/%D0%B8%D0%BD%D1%84%D1%82%D0%B5%D1%85.ipynb\" target=\"_parent\"><img src=\"https://colab.research.google.com/assets/colab-badge.svg\" alt=\"Open In Colab\"/></a>"
      ]
    },
    {
      "cell_type": "code",
      "metadata": {
        "id": "zje-1i1K7Tap",
        "colab": {
          "base_uri": "https://localhost:8080/",
          "height": 119
        },
        "outputId": "f4e87d25-f3eb-46d4-8c15-b2daa0147a2e"
      },
      "source": [
        "from math import sqrt\n",
        "print(\"Введите длину стороны треугольника\")\n",
        "a=float(input())\n",
        "'''\n",
        "площадь равностороннего треугольника, его высоты, радиусы вписанной и описанной окружностей\n",
        "'''\n",
        "print(\"Площадь равностороннего треугольника: \",end=\"\")\n",
        "print(round(a*a*sqrt(3)/4,3))\n",
        "print(\"Высота равностороннего треугольника: \",end=\"\")\n",
        "print(round(a*sqrt(3)/2,3))\n",
        "print(\"Радиус вписанной окружности равностороннего треугольника: \",end=\"\")\n",
        "print(round(a/(2*sqrt(3)),3))\n",
        "print(\"Радиус описанной окружности равностороннего треугольника: \",end=\"\")\n",
        "print(round(a/sqrt(3),3))"
      ],
      "execution_count": null,
      "outputs": [
        {
          "output_type": "stream",
          "text": [
            "Введите длину стороны треугольника\n",
            "3\n",
            "Площадь равностороннего треугольника: 3.897\n",
            "Высота равностороннего треугольника: 2.598\n",
            "Радиус вписанной окружности равностороннего треугольника: 0.866\n",
            "Радиус описанной окружности равностороннего треугольника: 1.732\n"
          ],
          "name": "stdout"
        }
      ]
    },
    {
      "cell_type": "code",
      "metadata": {
        "id": "0uD5-8mVKFKG",
        "colab": {
          "base_uri": "https://localhost:8080/",
          "height": 85
        },
        "outputId": "4d6bd244-7d24-47d5-d9b8-ac908e4fb4ec"
      },
      "source": [
        "a,b,c=[float(input()) for i in '123']\n",
        "if a+b>c and a+c>b and b+c>a:\n",
        "  if a**2==b**2+c**2 or b**2==a**2+c**2 or c**2==b**2+a**2:\n",
        "    print(\"Да, прямоугольный\")\n",
        "  elif a**2>b**2+c**2 or b**2>a**2+c**2 or c**2>b**2+a**2:\n",
        "    print(\"Да, тупоугольный\")\n",
        "  else:\n",
        "    print(\"Да, остроугольный\")\n",
        "else:\n",
        "  print(\"Нет\")\n",
        "\n",
        "#print(a,b,c)"
      ],
      "execution_count": null,
      "outputs": [
        {
          "output_type": "stream",
          "text": [
            "7\n",
            "3\n",
            "2\n",
            "Нет\n"
          ],
          "name": "stdout"
        }
      ]
    },
    {
      "cell_type": "code",
      "metadata": {
        "id": "jWwpkodmQqlx",
        "colab": {
          "base_uri": "https://localhost:8080/",
          "height": 51
        },
        "outputId": "5b846767-4621-4ff1-facb-f90778209ebd"
      },
      "source": [
        "n=int(input())\n",
        "sum=0\n",
        "for i in range(1,n+1):\n",
        "  sum+=5/(25*i*i-5*i-6)\n",
        "print(sum)\n"
      ],
      "execution_count": null,
      "outputs": [
        {
          "output_type": "stream",
          "text": [
            "30\n",
            "0.4934210526315789\n"
          ],
          "name": "stdout"
        }
      ]
    },
    {
      "cell_type": "code",
      "metadata": {
        "id": "6qLX1sd3YPI_",
        "colab": {
          "base_uri": "https://localhost:8080/"
        },
        "outputId": "d022053f-7c79-45c4-b29d-e40ad80ad25f"
      },
      "source": [
        "x.reshape(len(x[1]), len(x), len(x[2])).shape"
      ],
      "execution_count": null,
      "outputs": [
        {
          "output_type": "execute_result",
          "data": {
            "text/plain": [
              "torch.Size([28, 6000, 28])"
            ]
          },
          "metadata": {
            "tags": []
          },
          "execution_count": 11
        }
      ]
    },
    {
      "cell_type": "code",
      "metadata": {
        "id": "7ixoaNBUcREn"
      },
      "source": [
        ""
      ],
      "execution_count": null,
      "outputs": []
    },
    {
      "cell_type": "code",
      "metadata": {
        "id": "mfTYGb32z_64"
      },
      "source": [
        "x=torch.zeros([6000, 28, 28], dtype=torch.int32)"
      ],
      "execution_count": null,
      "outputs": []
    },
    {
      "cell_type": "code",
      "metadata": {
        "colab": {
          "base_uri": "https://localhost:8080/"
        },
        "id": "PagutDO_0BkO",
        "outputId": "1b02f51d-d719-48c2-8a3a-dc5c9de113d7"
      },
      "source": [
        "x.reshape(-1,14,32,7).shape"
      ],
      "execution_count": null,
      "outputs": [
        {
          "output_type": "execute_result",
          "data": {
            "text/plain": [
              "torch.Size([1500, 14, 32, 7])"
            ]
          },
          "metadata": {
            "tags": []
          },
          "execution_count": 6
        }
      ]
    },
    {
      "cell_type": "code",
      "metadata": {
        "id": "2V5PKBlCsp0H",
        "colab": {
          "base_uri": "https://localhost:8080/"
        },
        "outputId": "7e465894-dcba-45e6-e861-788a6f06a097"
      },
      "source": [
        "import torch\n",
        "\n",
        "w = torch.tensor( [[1.,2.],[4.,5.]], requires_grad=True)\n",
        "\n",
        "function = 10 * torch.log( ( w + 1. ) ).sum()\n",
        "\n",
        "function.backward()\n",
        "\n",
        "print(w-w.grad)"
      ],
      "execution_count": null,
      "outputs": [
        {
          "output_type": "stream",
          "text": [
            "tensor([[-4.0000, -1.3333],\n",
            "        [ 2.0000,  3.3333]], grad_fn=<SubBackward0>)\n"
          ],
          "name": "stdout"
        }
      ]
    },
    {
      "cell_type": "code",
      "metadata": {
        "colab": {
          "base_uri": "https://localhost:8080/"
        },
        "id": "sNzG2m72cR1l",
        "outputId": "c6ca401a-d2d1-40e6-e26c-9dc119238569"
      },
      "source": [
        "import numpy as np\n",
        "import math\n",
        "\n",
        "\n",
        "def calc_out_shape(input_matrix_shape, out_channels, kernel_size, stride, padding):\n",
        "    out_shape =[] # напишите тут код, вычисляющий выходную размерность\n",
        "    out_shape.append(input_matrix_shape[0])\n",
        "    out_shape.append(out_channels)\n",
        "    out_shape.append(((np.floor((input_matrix_shape[2] - kernel_size + 2 * padding)// stride))) + 1)\n",
        "    out_shape.append(((np.floor((input_matrix_shape[3] - kernel_size + 2 * padding)// stride))) + 1)\n",
        "    #out_shape.append(round((input_matrix_shape[4]+2*padding[1]-kernel_size[1]-1-1)/stride[1]-1))\n",
        "    return out_shape\n",
        "print(calc_out_shape(input_matrix_shape=[2, 3, 10, 10],\n",
        "                   out_channels=10,\n",
        "                   kernel_size=3,\n",
        "                   stride=1,\n",
        "                   padding=0))\n",
        "print(np.array_equal(\n",
        "    calc_out_shape(input_matrix_shape=[2, 3, 10, 10],\n",
        "                   out_channels=10,\n",
        "                   kernel_size=3,\n",
        "                   stride=1,\n",
        "                   padding=0),\n",
        "    [2, 10, 8, 8]))\n",
        "print('w4',(1 - np.tanh(np.tanh(np.tanh(np.tanh(100))))**2)*np.tanh(np.tanh(np.tanh(100))))\n",
        "\n",
        "print('w3',(1 - np.tanh(np.tanh(np.tanh(np.tanh(100))))**2)*(1-np.tanh(np.tanh(np.tanh(100)))**2)*np.tanh(np.tanh(100)))\n",
        "\n",
        "print('w2',(1 - np.tanh(np.tanh(np.tanh(np.tanh(100))))**2)*(1-np.tanh(np.tanh(np.tanh(100)))**2)*(1-np.tanh(np.tanh(100))**2)*np.tanh(100))\n",
        "\n",
        "print('w1',(1 - np.tanh(np.tanh(np.tanh(np.tanh(100))))**2)*(1 - np.tanh(np.tanh(np.tanh(100)))**2)*(1 - np.tanh(np.tanh(100))**2)*(1 - np.tanh(100)**2)*100)\n",
        "# ... и ещё несколько подобных кейсов"
      ],
      "execution_count": null,
      "outputs": [
        {
          "output_type": "stream",
          "text": [
            "[2, 10, 8.0, 8.0]\n",
            "True\n",
            "w4 0.43614538244454387\n",
            "w3 0.30412468309754653\n",
            "w2 0.1677068587693903\n",
            "w1 0.0\n"
          ],
          "name": "stdout"
        }
      ]
    },
    {
      "cell_type": "code",
      "metadata": {
        "colab": {
          "base_uri": "https://localhost:8080/"
        },
        "id": "aSEvwkxjiRCI",
        "outputId": "376f2947-5688-4001-cc1a-0018b38951f4"
      },
      "source": [
        "print('w4',(1 - math.tanh(math.tanh(math.tanh(math.tanh(100))))**2)*math.tanh(math.tanh(math.tanh(100))))\n",
        "print('w3',(1 - math.tanh(math.tanh(math.tanh(math.tanh(100))))**2)*(1-math.tanh(math.tanh(math.tanh(100)))**2)*math.tanh(math.tanh(100)))\n",
        "print('w2',(1 - math.tanh(math.tanh(math.tanh(math.tanh(100))))**2)*(1-math.tanh(math.tanh(math.tanh(100)))**2)*(1-math.tanh(math.tanh(100))**2)*math.tanh(100))\n",
        "print('w1',(1 - math.tanh(math.tanh(math.tanh(math.tanh(100))))**2)*(1 - math.tanh(math.tanh(math.tanh(100)))**2)*(1 - math.tanh(math.tanh(100))**2)*(1 - math.tanh(100)**2)*100)"
      ],
      "execution_count": null,
      "outputs": [
        {
          "output_type": "stream",
          "text": [
            "w4 0.43614538244454387\n",
            "w3 0.30412468309754653\n",
            "w2 0.1677068587693903\n",
            "w1 0.0\n"
          ],
          "name": "stdout"
        }
      ]
    },
    {
      "cell_type": "code",
      "metadata": {
        "colab": {
          "base_uri": "https://localhost:8080/",
          "height": 328
        },
        "id": "Q8krD2C9yNwO",
        "outputId": "cae91a8b-7ce7-4279-8287-7b4f4e8f6b5b"
      },
      "source": [
        "import pandas as pd\n",
        "def EMA(values_list, alpha):\n",
        "    if len(values_list) == 0:\n",
        "        return 0\n",
        "    else:\n",
        "        last = values_list[0]\n",
        "        return alpha * EMA(values_list[1:], alpha) + (1-alpha) * last\n",
        "\n",
        "calc = {0.1:[], 0.5:[], 0.9:[]}\n",
        "for n in range(1, 10):\n",
        "    values_list = [100] * n\n",
        "    for alpha in calc.keys():\n",
        "        e = EMA(values_list, alpha)\n",
        "        m = sum(values_list) / len(values_list)\n",
        "        calc[alpha].append(e/m)\n",
        "    \n",
        "pd.DataFrame(calc)"
      ],
      "execution_count": null,
      "outputs": [
        {
          "output_type": "execute_result",
          "data": {
            "text/html": [
              "<div>\n",
              "<style scoped>\n",
              "    .dataframe tbody tr th:only-of-type {\n",
              "        vertical-align: middle;\n",
              "    }\n",
              "\n",
              "    .dataframe tbody tr th {\n",
              "        vertical-align: top;\n",
              "    }\n",
              "\n",
              "    .dataframe thead th {\n",
              "        text-align: right;\n",
              "    }\n",
              "</style>\n",
              "<table border=\"1\" class=\"dataframe\">\n",
              "  <thead>\n",
              "    <tr style=\"text-align: right;\">\n",
              "      <th></th>\n",
              "      <th>0.1</th>\n",
              "      <th>0.5</th>\n",
              "      <th>0.9</th>\n",
              "    </tr>\n",
              "  </thead>\n",
              "  <tbody>\n",
              "    <tr>\n",
              "      <th>0</th>\n",
              "      <td>0.900000</td>\n",
              "      <td>0.500000</td>\n",
              "      <td>0.100000</td>\n",
              "    </tr>\n",
              "    <tr>\n",
              "      <th>1</th>\n",
              "      <td>0.990000</td>\n",
              "      <td>0.750000</td>\n",
              "      <td>0.190000</td>\n",
              "    </tr>\n",
              "    <tr>\n",
              "      <th>2</th>\n",
              "      <td>0.999000</td>\n",
              "      <td>0.875000</td>\n",
              "      <td>0.271000</td>\n",
              "    </tr>\n",
              "    <tr>\n",
              "      <th>3</th>\n",
              "      <td>0.999900</td>\n",
              "      <td>0.937500</td>\n",
              "      <td>0.343900</td>\n",
              "    </tr>\n",
              "    <tr>\n",
              "      <th>4</th>\n",
              "      <td>0.999990</td>\n",
              "      <td>0.968750</td>\n",
              "      <td>0.409510</td>\n",
              "    </tr>\n",
              "    <tr>\n",
              "      <th>5</th>\n",
              "      <td>0.999999</td>\n",
              "      <td>0.984375</td>\n",
              "      <td>0.468559</td>\n",
              "    </tr>\n",
              "    <tr>\n",
              "      <th>6</th>\n",
              "      <td>1.000000</td>\n",
              "      <td>0.992188</td>\n",
              "      <td>0.521703</td>\n",
              "    </tr>\n",
              "    <tr>\n",
              "      <th>7</th>\n",
              "      <td>1.000000</td>\n",
              "      <td>0.996094</td>\n",
              "      <td>0.569533</td>\n",
              "    </tr>\n",
              "    <tr>\n",
              "      <th>8</th>\n",
              "      <td>1.000000</td>\n",
              "      <td>0.998047</td>\n",
              "      <td>0.612580</td>\n",
              "    </tr>\n",
              "  </tbody>\n",
              "</table>\n",
              "</div>"
            ],
            "text/plain": [
              "        0.1       0.5       0.9\n",
              "0  0.900000  0.500000  0.100000\n",
              "1  0.990000  0.750000  0.190000\n",
              "2  0.999000  0.875000  0.271000\n",
              "3  0.999900  0.937500  0.343900\n",
              "4  0.999990  0.968750  0.409510\n",
              "5  0.999999  0.984375  0.468559\n",
              "6  1.000000  0.992188  0.521703\n",
              "7  1.000000  0.996094  0.569533\n",
              "8  1.000000  0.998047  0.612580"
            ]
          },
          "metadata": {
            "tags": []
          },
          "execution_count": 23
        }
      ]
    },
    {
      "cell_type": "code",
      "metadata": {
        "id": "a333xP2F_vdR"
      },
      "source": [
        "import torch\n",
        "from abc import ABC, abstractmethod\n",
        "\n",
        "\n",
        "def calc_out_shape(input_matrix_shape, out_channels, kernel_size, stride, padding):\n",
        "    batch_size, channels_count, input_height, input_width = input_matrix_shape\n",
        "    output_height = (input_height + 2 * padding - (kernel_size - 1) - 1) // stride + 1\n",
        "    output_width = (input_width + 2 * padding - (kernel_size - 1) - 1) // stride + 1\n",
        "\n",
        "    return batch_size, out_channels, output_height, output_width\n",
        "\n",
        "\n",
        "class ABCConv2d(ABC):\n",
        "    def __init__(self, in_channels, out_channels, kernel_size, stride):\n",
        "        self.in_channels = in_channels\n",
        "        self.out_channels = out_channels\n",
        "        self.kernel_size = kernel_size\n",
        "        self.stride = stride\n",
        "\n",
        "    def set_kernel(self, kernel):\n",
        "        self.kernel = kernel\n",
        "\n",
        "    @abstractmethod\n",
        "    def __call__(self, input_tensor):\n",
        "        pass\n",
        "\n",
        "\n",
        "class Conv2d(ABCConv2d):\n",
        "    def __init__(self, in_channels, out_channels, kernel_size, stride):\n",
        "        self.conv2d = torch.nn.Conv2d(in_channels, out_channels, kernel_size,\n",
        "                                      stride, padding=0, bias=False)\n",
        "\n",
        "    def set_kernel(self, kernel):\n",
        "        self.conv2d.weight.data = kernel\n",
        "\n",
        "    def __call__(self, input_tensor):\n",
        "        return self.conv2d(input_tensor)\n",
        "\n",
        "\n",
        "def create_and_call_conv2d_layer(conv2d_layer_class, stride, kernel, input_matrix):\n",
        "    out_channels = kernel.shape[0]\n",
        "    in_channels = kernel.shape[1]\n",
        "    kernel_size = kernel.shape[2]\n",
        "\n",
        "    layer = conv2d_layer_class(in_channels, out_channels, kernel_size, stride)\n",
        "    layer.set_kernel(kernel)\n",
        "\n",
        "    return layer(input_matrix)\n",
        "\n",
        "\n",
        "def test_conv2d_layer(conv2d_layer_class, batch_size=2,\n",
        "                      input_height=4, input_width=4, stride=2):\n",
        "    kernel = torch.tensor(\n",
        "                      [[[[0., 1, 0],\n",
        "                         [1,  2, 1],\n",
        "                         [0,  1, 0]],\n",
        "\n",
        "                        [[1, 2, 1],\n",
        "                         [0, 3, 3],\n",
        "                         [0, 1, 10]],\n",
        "\n",
        "                        [[10, 11, 12],\n",
        "                         [13, 14, 15],\n",
        "                         [16, 17, 18]]]])\n",
        "\n",
        "    in_channels = kernel.shape[1]\n",
        "\n",
        "    input_tensor = torch.arange(0, batch_size * in_channels *\n",
        "                                input_height * input_width,\n",
        "                                out=torch.FloatTensor()) \\\n",
        "        .reshape(batch_size, in_channels, input_height, input_width)\n",
        "\n",
        "    custom_conv2d_out = create_and_call_conv2d_layer(\n",
        "        conv2d_layer_class, stride, kernel, input_tensor)\n",
        "    conv2d_out = create_and_call_conv2d_layer(\n",
        "        Conv2d, stride, kernel, input_tensor)\n",
        "\n",
        "    return torch.allclose(custom_conv2d_out, conv2d_out) \\\n",
        "             and (custom_conv2d_out.shape == conv2d_out.shape)\n",
        "\n",
        "\n",
        "# Сверточный слой через циклы.\n",
        "class Conv2dLoop(ABCConv2d):\n",
        "    def __call__(self, input_tensor):\n",
        "        output_tensor = # Напишите в этом месте вычисление свертки с использованием циклов.\n",
        "        return output_tensor\n",
        "\n",
        "# Корректность реализации определится в сравнении со стандартным слоем из pytorch.\n",
        "# Проверка происходит автоматически вызовом следующего кода\n",
        "# (раскомментируйте для самостоятельной проверки,\n",
        "#  в коде для сдачи задания должно быть закомментировано):\n",
        "# print(test_conv2d_layer(Conv2dLoop))"
      ],
      "execution_count": null,
      "outputs": []
    }
  ]
}